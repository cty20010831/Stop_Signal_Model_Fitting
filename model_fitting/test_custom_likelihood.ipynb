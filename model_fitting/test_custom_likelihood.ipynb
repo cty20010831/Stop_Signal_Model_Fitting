{
 "cells": [
  {
   "cell_type": "markdown",
   "metadata": {},
   "source": [
    "This notebook is used to test the customized pytensor OPs used for stop-respond and successful inhibition likelihood functions."
   ]
  },
  {
   "cell_type": "markdown",
   "metadata": {},
   "source": [
    "# Load modules, simulated data, and true parameters"
   ]
  },
  {
   "cell_type": "code",
   "execution_count": 1,
   "metadata": {},
   "outputs": [],
   "source": [
    "from util import *\n",
    "import pandas as pd\n",
    "import pytensor"
   ]
  },
  {
   "cell_type": "code",
   "execution_count": 2,
   "metadata": {},
   "outputs": [],
   "source": [
    "# Load data and test parameters\n",
    "simulated_data = pd.read_csv('../simulation/simulated_data/hierarchical_simulated_data_fixed_SSD.csv')\n",
    "true_parameters = pd.read_csv('../simulation/true_param/hierarchical_true_parameters_fixed_SSD.csv')"
   ]
  },
  {
   "cell_type": "code",
   "execution_count": 3,
   "metadata": {},
   "outputs": [
    {
     "name": "stdout",
     "output_type": "stream",
     "text": [
      "932.0086387647641\n"
     ]
    }
   ],
   "source": [
    "# Determine uppper bound of observed sst\n",
    "par_0_df = simulated_data[simulated_data['participant_id'] == 0]\n",
    "upper_bound = max(par_0_df['observed_rt']) + 100\n",
    "print(upper_bound)"
   ]
  },
  {
   "cell_type": "code",
   "execution_count": 4,
   "metadata": {},
   "outputs": [
    {
     "name": "stdout",
     "output_type": "stream",
     "text": [
      "[480. 400. 320.  80. 400.  80.]\n"
     ]
    }
   ],
   "source": [
    "ssd_array_stop_respond = par_0_df.loc[par_0_df['outcome'] == 'stop-respond', 'ssd'].values\n",
    "print(ssd_array_stop_respond)"
   ]
  },
  {
   "cell_type": "code",
   "execution_count": 5,
   "metadata": {},
   "outputs": [
    {
     "name": "stdout",
     "output_type": "stream",
     "text": [
      "[642.02442528 629.361257   474.4613705  511.31397965 505.62656202\n",
      " 544.48497631]\n"
     ]
    }
   ],
   "source": [
    "t_r = par_0_df.loc[par_0_df['outcome'] == 'stop-respond', 'observed_rt'].values\n",
    "print(t_r)"
   ]
  },
  {
   "cell_type": "code",
   "execution_count": 6,
   "metadata": {},
   "outputs": [
    {
     "name": "stdout",
     "output_type": "stream",
     "text": [
      "[320. 160. 160. 160.]\n"
     ]
    }
   ],
   "source": [
    "ssd_array_succcessful_inhibition = par_0_df.loc[par_0_df['outcome'] == 'successful inhibition', 'ssd'].values\n",
    "print(ssd_array_succcessful_inhibition)"
   ]
  },
  {
   "cell_type": "markdown",
   "metadata": {},
   "source": [
    "# Test Stop_Respond OP"
   ]
  },
  {
   "cell_type": "code",
   "execution_count": 7,
   "metadata": {},
   "outputs": [],
   "source": [
    "it_r, (imu_go, isigma_go, itau_go, imu_stop, isigma_stop, itau_stop, ip_tf), issd_array = t_r, list(true_parameters.loc[0][1:]), ssd_array_stop_respond"
   ]
  },
  {
   "cell_type": "code",
   "execution_count": 8,
   "metadata": {},
   "outputs": [],
   "source": [
    "# create our Op\n",
    "loglike_op = Stop_Respond()\n",
    "\n",
    "test_out = loglike_op(it_r, imu_go, isigma_go, itau_go, imu_stop, isigma_stop, itau_stop, ip_tf, issd_array)"
   ]
  },
  {
   "cell_type": "code",
   "execution_count": 9,
   "metadata": {},
   "outputs": [
    {
     "name": "stdout",
     "output_type": "stream",
     "text": [
      "Stop_Respond [id A] <Vector(float64, shape=(6,))>\n",
      " ├─ [642.02442 ... .48497631] [id B] <Vector(float64, shape=(6,))>\n",
      " ├─ 492.7769710466497 [id C] <Scalar(float64, shape=())>\n",
      " ├─ 67.98710015313769 [id D] <Scalar(float64, shape=())>\n",
      " ├─ 35.06940670098028 [id E] <Scalar(float64, shape=())>\n",
      " ├─ 160.16246583034786 [id F] <Scalar(float64, shape=())>\n",
      " ├─ 1.0000000530603947 [id G] <Scalar(float64, shape=())>\n",
      " ├─ 1.7642111746992046 [id H] <Scalar(float64, shape=())>\n",
      " ├─ 0.6595437195444122 [id I] <Scalar(float64, shape=())>\n",
      " └─ [480. 400. ... 400.  80.] [id J] <Vector(float64, shape=(6,))>\n"
     ]
    },
    {
     "data": {
      "text/plain": [
       "<ipykernel.iostream.OutStream at 0x1214e71c0>"
      ]
     },
     "execution_count": 9,
     "metadata": {},
     "output_type": "execute_result"
    }
   ],
   "source": [
    "pytensor.dprint(test_out, print_type=True)"
   ]
  },
  {
   "cell_type": "code",
   "execution_count": 10,
   "metadata": {},
   "outputs": [
    {
     "data": {
      "text/plain": [
       "array([-6.67112924, -6.62764453, -5.4520588 , -5.66246806, -5.26119387,\n",
       "       -5.69425052])"
      ]
     },
     "execution_count": 10,
     "metadata": {},
     "output_type": "execute_result"
    }
   ],
   "source": [
    "test_out.eval()"
   ]
  },
  {
   "cell_type": "code",
   "execution_count": 11,
   "metadata": {},
   "outputs": [],
   "source": [
    "def stop_respond_likelihood(t_r, mu_go, sigma_go, tau_go, \n",
    "                            mu_stop, sigma_stop, tau_stop, \n",
    "                            p_tf, ssd):\n",
    "    \n",
    "    failed_trigger = p_tf * exgaussian_pdf_numpy(t_r, mu_go, sigma_go, tau_go)\n",
    "    # Focus on the relevant time interval for determining if the stop process \n",
    "    # finished before the response was made (specifically, t_r - ssd_array)\n",
    "    successful_trigger = (1 - p_tf) * (1 - exgaussian_cdf_numpy(t_r - ssd, mu_stop, sigma_stop, tau_stop)) * exgaussian_pdf_numpy(t_r, mu_go, sigma_go, tau_go)\n",
    "    \n",
    "    return np.log(failed_trigger + successful_trigger)"
   ]
  },
  {
   "cell_type": "code",
   "execution_count": 12,
   "metadata": {},
   "outputs": [
    {
     "name": "stdout",
     "output_type": "stream",
     "text": [
      "[ True  True  True  True  True  True]\n"
     ]
    }
   ],
   "source": [
    "print(test_out.eval() == stop_respond_likelihood(it_r, imu_go, isigma_go, itau_go, imu_stop, isigma_stop, itau_stop, ip_tf, issd_array))"
   ]
  },
  {
   "cell_type": "markdown",
   "metadata": {},
   "source": [
    "# Test Successful_Inhibition OP"
   ]
  },
  {
   "cell_type": "code",
   "execution_count": 13,
   "metadata": {},
   "outputs": [],
   "source": [
    "iupper_bound, (imu_go, isigma_go, itau_go, imu_stop, isigma_stop, itau_stop, ip_tf), issd_array = upper_bound, list(true_parameters.loc[0][1:]), ssd_array_succcessful_inhibition"
   ]
  },
  {
   "cell_type": "code",
   "execution_count": 14,
   "metadata": {},
   "outputs": [],
   "source": [
    "# create our Op\n",
    "loglike_op = Succcessful_Inhibition()\n",
    "\n",
    "test_out = loglike_op(iupper_bound, imu_go, isigma_go, itau_go, imu_stop, isigma_stop, itau_stop, ip_tf, issd_array)"
   ]
  },
  {
   "cell_type": "code",
   "execution_count": 15,
   "metadata": {},
   "outputs": [
    {
     "name": "stdout",
     "output_type": "stream",
     "text": [
      "Succcessful_Inhibition [id A] <Vector(float64, shape=(4,))>\n",
      " ├─ 932.0086387647641 [id B] <Scalar(float64, shape=())>\n",
      " ├─ 492.7769710466497 [id C] <Scalar(float64, shape=())>\n",
      " ├─ 67.98710015313769 [id D] <Scalar(float64, shape=())>\n",
      " ├─ 35.06940670098028 [id E] <Scalar(float64, shape=())>\n",
      " ├─ 160.16246583034786 [id F] <Scalar(float64, shape=())>\n",
      " ├─ 1.0000000530603947 [id G] <Scalar(float64, shape=())>\n",
      " ├─ 1.7642111746992046 [id H] <Scalar(float64, shape=())>\n",
      " ├─ 0.6595437195444122 [id I] <Scalar(float64, shape=())>\n",
      " └─ [320. 160. ... 160. 160.] [id J] <Vector(float64, shape=(4,))>\n"
     ]
    },
    {
     "data": {
      "text/plain": [
       "<ipykernel.iostream.OutStream at 0x1214e71c0>"
      ]
     },
     "execution_count": 15,
     "metadata": {},
     "output_type": "execute_result"
    }
   ],
   "source": [
    "pytensor.dprint(test_out, print_type=True)"
   ]
  },
  {
   "cell_type": "code",
   "execution_count": 16,
   "metadata": {},
   "outputs": [
    {
     "name": "stdout",
     "output_type": "stream",
     "text": [
      "[0.07521771 0.02941847 0.02941847 0.02941847]\n",
      "The likelihood is:  [0.02560834 0.0100157  0.0100157  0.0100157 ]\n"
     ]
    },
    {
     "data": {
      "text/plain": [
       "array([-3.66483712, -4.60360108, -4.60360108, -4.60360108])"
      ]
     },
     "execution_count": 16,
     "metadata": {},
     "output_type": "execute_result"
    }
   ],
   "source": [
    "test_out.eval()"
   ]
  },
  {
   "cell_type": "code",
   "execution_count": 17,
   "metadata": {},
   "outputs": [],
   "source": [
    "def successful_inhibit_log_likelihood(mu_go, sigma_go, tau_go, \n",
    "                                      mu_stop, sigma_stop, tau_stop, \n",
    "                                      p_tf, upper_bound, ssd, n=50):\n",
    "\n",
    "    total_integral = 0\n",
    "    nodes, weights = legendre_quadrature(upper_bound, ssd, n)\n",
    "\n",
    "    for j in range(n):\n",
    "        integrand = (1 - exgaussian_cdf_numpy(nodes[j], mu_go, sigma_go, tau_go)) * exgaussian_pdf_numpy(nodes[j] - ssd, mu_stop, sigma_stop, tau_stop)\n",
    "        integral = weights[j] * integrand\n",
    "        total_integral += integral\n",
    "\n",
    "    likelihood = (1 - p_tf) * total_integral\n",
    "\n",
    "    return np.log(likelihood)"
   ]
  },
  {
   "cell_type": "code",
   "execution_count": 18,
   "metadata": {},
   "outputs": [
    {
     "name": "stdout",
     "output_type": "stream",
     "text": [
      "[ True  True  True  True]\n"
     ]
    }
   ],
   "source": [
    "print(test_out.eval() == successful_inhibit_log_likelihood(imu_go, isigma_go, itau_go, imu_stop, isigma_stop, itau_stop, ip_tf, np.array([iupper_bound]), issd_array))"
   ]
  }
 ],
 "metadata": {
  "kernelspec": {
   "display_name": "base",
   "language": "python",
   "name": "python3"
  },
  "language_info": {
   "codemirror_mode": {
    "name": "ipython",
    "version": 3
   },
   "file_extension": ".py",
   "mimetype": "text/x-python",
   "name": "python",
   "nbconvert_exporter": "python",
   "pygments_lexer": "ipython3",
   "version": "3.12.2"
  }
 },
 "nbformat": 4,
 "nbformat_minor": 2
}
