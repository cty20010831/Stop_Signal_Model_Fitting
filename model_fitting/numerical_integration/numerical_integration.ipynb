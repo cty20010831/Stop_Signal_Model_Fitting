{
 "cells": [
  {
   "cell_type": "code",
   "execution_count": 1,
   "metadata": {},
   "outputs": [],
   "source": [
    "import os, sys\n",
    "# Use the notebook’s current directory as the base\n",
    "notebook_dir = os.getcwd()\n",
    "sys.path.append(os.path.abspath(os.path.join(notebook_dir, '..')))\n",
    "\n",
    "# Import all functions from model_fitting.util\n",
    "from util import *"
   ]
  },
  {
   "cell_type": "code",
   "execution_count": 2,
   "metadata": {},
   "outputs": [],
   "source": [
    "import numpy as np\n",
    "import pytensor.tensor as pt\n",
    "import pymc as pm\n",
    "from pymc.math import logdiffexp\n",
    "from pymc.distributions.dist_math import normal_lcdf, log_normal, check_parameters"
   ]
  },
  {
   "cell_type": "markdown",
   "metadata": {},
   "source": [
    "# Test a Simple Function"
   ]
  },
  {
   "cell_type": "markdown",
   "metadata": {},
   "source": [
    "## Gauss-Legendre Quadrature"
   ]
  },
  {
   "cell_type": "code",
   "execution_count": 1,
   "metadata": {},
   "outputs": [
    {
     "name": "stdout",
     "output_type": "stream",
     "text": [
      "Gauss-Legendre Quadrature Result: 0.7821982220345253\n"
     ]
    }
   ],
   "source": [
    "\n",
    "\n",
    "def gauss_legendre_quadrature(f, a, b, n):\n",
    "    \"\"\"Gauss-Legendre quadrature integration.\"\"\"\n",
    "    [x, w] = np.polynomial.legendre.leggauss(n)  # n-point Gauss-Legendre\n",
    "    # Transform x from [-1, 1] to [a, b]\n",
    "    t = 0.5 * (x + 1) * (b - a) + a\n",
    "    integral = 0.5 * (b - a) * np.sum(w * f(t))\n",
    "    return integral\n",
    "\n",
    "# Example function to integrate\n",
    "def integrand(x):\n",
    "    return 1.0 / (x**2 + 1.005)\n",
    "\n",
    "# Compare with GSL integration\n",
    "a, b = 0, 1  # Integration limits\n",
    "n = 41  # Number of Gauss-Legendre points\n",
    "\n",
    "result_gauss_legendre = gauss_legendre_quadrature(integrand, a, b, n)\n",
    "print(f\"Gauss-Legendre Quadrature Result: {result_gauss_legendre}\")"
   ]
  },
  {
   "cell_type": "markdown",
   "metadata": {},
   "source": [
    "# Test Successful Inhibition Likelihood"
   ]
  },
  {
   "cell_type": "code",
   "execution_count": 3,
   "metadata": {},
   "outputs": [],
   "source": [
    "# Sample input parameters\n",
    "mu_go, sigma_go, tau_go = 1000, 50, 100  # Go process\n",
    "mu_stop, sigma_stop, tau_stop = 1000, 30, 80  # Stop process\n",
    "p_tf = 0.5  # Probability of triggering stop\n",
    "# ssd = np.array([200, 250, 300])  # Stop-signal delays\n",
    "ssd = np.array([0]) # Stop-signal delays\n",
    "t_r = np.array([350, 400, 450])  # Response times\n",
    "n_points = 1000  # Number of quadrature points\n",
    "\n",
    "# Upper bound for integration (could be RT ceiling)\n",
    "upper_bound = np.array([10000])\n",
    "\n",
    "# Precompute nodes and weights for Legendre quadrature\n",
    "nodes, weights = precompute_legendre_quadrature(ssd, upper_bound, n_points)"
   ]
  },
  {
   "cell_type": "code",
   "execution_count": 4,
   "metadata": {},
   "outputs": [
    {
     "name": "stdout",
     "output_type": "stream",
     "text": [
      "Integral Result: [0.54923889]\n"
     ]
    }
   ],
   "source": [
    "integral_result = integrate_cexgauss(nodes, weights, \n",
    "                                     mu_go, sigma_go, tau_go,\n",
    "                                     mu_stop, sigma_stop, tau_stop,\n",
    "                                     ssd)\n",
    "print(f\"Integral Result: {integral_result.eval()}\")"
   ]
  },
  {
   "cell_type": "code",
   "execution_count": 7,
   "metadata": {},
   "outputs": [
    {
     "name": "stdout",
     "output_type": "stream",
     "text": [
      "Go Log-Likelihood: -241.16222968163703\n"
     ]
    }
   ],
   "source": [
    "# Calculate log-likelihood of go trials \n",
    "logpdf_exgaussian(t_r, mu_go, sigma_go, tau_go)\n",
    "go_log_likelihood = logpdf_exgaussian(t_r, mu_go, sigma_go, tau_go)\n",
    "print(f\"Go Log-Likelihood: {np.sum(go_log_likelihood.eval())}\")"
   ]
  },
  {
   "cell_type": "code",
   "execution_count": 8,
   "metadata": {},
   "outputs": [
    {
     "name": "stdout",
     "output_type": "stream",
     "text": [
      "Stop Log-Likelihood: -241.16222968163703\n"
     ]
    }
   ],
   "source": [
    "# Calculate log-likelihood of stop respond trials \n",
    "stop_log_likelihood = stop_respond_log_likelihood(t_r, mu_go, sigma_go, tau_go,\n",
    "                                             mu_stop, sigma_stop, tau_stop,\n",
    "                                             p_tf, ssd)\n",
    "print(f\"Stop Log-Likelihood: {np.sum(stop_log_likelihood.eval())}\")"
   ]
  }
 ],
 "metadata": {
  "kernelspec": {
   "display_name": "venv",
   "language": "python",
   "name": "python3"
  },
  "language_info": {
   "codemirror_mode": {
    "name": "ipython",
    "version": 3
   },
   "file_extension": ".py",
   "mimetype": "text/x-python",
   "name": "python",
   "nbconvert_exporter": "python",
   "pygments_lexer": "ipython3",
   "version": "3.11.0"
  }
 },
 "nbformat": 4,
 "nbformat_minor": 2
}
